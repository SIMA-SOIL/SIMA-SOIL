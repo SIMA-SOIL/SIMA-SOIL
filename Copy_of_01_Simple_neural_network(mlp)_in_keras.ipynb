{
  "cells": [
    {
      "cell_type": "markdown",
      "metadata": {
        "id": "view-in-github",
        "colab_type": "text"
      },
      "source": [
        "<a href=\"https://colab.research.google.com/github/SIMA-SOIL/SIMA-SOIL/blob/main/Copy_of_01_Simple_neural_network(mlp)_in_keras.ipynb\" target=\"_parent\"><img src=\"https://colab.research.google.com/assets/colab-badge.svg\" alt=\"Open In Colab\"/></a>"
      ]
    },
    {
      "cell_type": "markdown",
      "metadata": {
        "id": "mUXNXqK7n0Tt"
      },
      "source": [
        "<center><div style=\"direction:rtl;font-family:B Lotus, B Nazanin, Tahoma\">به نام خدا</div></center>\n",
        "\n",
        "<h1><center><div style=\"direction:rtl;font-family:B Lotus, B Nazanin, Tahoma\">مقدمه‌ای بر شبکه‌های عصبی و چارچوب Keras (کراس)</div></center></h1>"
      ]
    },
    {
      "cell_type": "markdown",
      "metadata": {
        "id": "jP3IhlAYn0Tw"
      },
      "source": [
        "## <div style=\"direction:rtl;text-align:right;font-family:B Lotus, B Nazanin, Tahoma\">لود کتابخانه‌های مورد استفاده</div>\n",
        "<div style=\"direction:rtl;text-align:right;font-family:Tahoma\">\n"
      ]
    },
    {
      "cell_type": "code",
      "execution_count": null,
      "metadata": {
        "id": "TbJqL_8poKzA",
        "colab": {
          "base_uri": "https://localhost:8080/"
        },
        "outputId": "69f2e965-ca3e-40d0-eb5c-95373c936a74"
      },
      "outputs": [
        {
          "output_type": "stream",
          "name": "stdout",
          "text": [
            "--2024-03-02 16:23:54--  https://raw.githubusercontent.com/Alireza-Akhavan/deeplearning-tensorflow2-notebooks/master/dataset.py\n",
            "Resolving raw.githubusercontent.com (raw.githubusercontent.com)... 185.199.109.133, 185.199.108.133, 185.199.111.133, ...\n",
            "Connecting to raw.githubusercontent.com (raw.githubusercontent.com)|185.199.109.133|:443... connected.\n",
            "HTTP request sent, awaiting response... 200 OK\n",
            "Length: 917 [text/plain]\n",
            "Saving to: ‘dataset.py’\n",
            "\n",
            "\rdataset.py            0%[                    ]       0  --.-KB/s               \rdataset.py          100%[===================>]     917  --.-KB/s    in 0s      \n",
            "\n",
            "2024-03-02 16:23:54 (48.1 MB/s) - ‘dataset.py’ saved [917/917]\n",
            "\n",
            "--2024-03-02 16:23:54--  https://github.com/Alireza-Akhavan/deeplearning-tensorflow2-notebooks/raw/master/dataset/Data_hoda_full.mat\n",
            "Resolving github.com (github.com)... 140.82.114.4\n",
            "Connecting to github.com (github.com)|140.82.114.4|:443... connected.\n",
            "HTTP request sent, awaiting response... 302 Found\n",
            "Location: https://raw.githubusercontent.com/Alireza-Akhavan/deeplearning-tensorflow2-notebooks/master/dataset/Data_hoda_full.mat [following]\n",
            "--2024-03-02 16:23:55--  https://raw.githubusercontent.com/Alireza-Akhavan/deeplearning-tensorflow2-notebooks/master/dataset/Data_hoda_full.mat\n",
            "Resolving raw.githubusercontent.com (raw.githubusercontent.com)... 185.199.109.133, 185.199.108.133, 185.199.111.133, ...\n",
            "Connecting to raw.githubusercontent.com (raw.githubusercontent.com)|185.199.109.133|:443... connected.\n",
            "HTTP request sent, awaiting response... 200 OK\n",
            "Length: 3989009 (3.8M) [application/octet-stream]\n",
            "Saving to: ‘dataset/Data_hoda_full.mat’\n",
            "\n",
            "Data_hoda_full.mat  100%[===================>]   3.80M  --.-KB/s    in 0.04s   \n",
            "\n",
            "2024-03-02 16:23:55 (86.3 MB/s) - ‘dataset/Data_hoda_full.mat’ saved [3989009/3989009]\n",
            "\n"
          ]
        }
      ],
      "source": [
        "!wget https://raw.githubusercontent.com/Alireza-Akhavan/deeplearning-tensorflow2-notebooks/master/dataset.py\n",
        "!wget https://github.com/Alireza-Akhavan/deeplearning-tensorflow2-notebooks/raw/master/dataset/Data_hoda_full.mat -P dataset"
      ]
    },
    {
      "cell_type": "code",
      "execution_count": null,
      "metadata": {
        "id": "wRZGKJERn0Ty",
        "nbpresent": {
          "id": "de829a92-1fb6-44ad-a2c6-fc1001e1f6e1"
        }
      },
      "outputs": [],
      "source": [
        "from tensorflow import keras\n",
        "from keras.models import Sequential\n",
        "from keras.layers import Dense\n",
        "import numpy as np\n",
        "\n",
        "from dataset import load_hoda"
      ]
    },
    {
      "cell_type": "code",
      "source": [
        "y_train_original[:4]"
      ],
      "metadata": {
        "colab": {
          "base_uri": "https://localhost:8080/"
        },
        "id": "aVzjvbAZAupl",
        "outputId": "f36476c9-eeb3-40d9-f149-3185636de5f7"
      },
      "execution_count": null,
      "outputs": [
        {
          "output_type": "execute_result",
          "data": {
            "text/plain": [
              "array([6, 5, 0, 2], dtype=uint8)"
            ]
          },
          "metadata": {},
          "execution_count": 7
        }
      ]
    },
    {
      "cell_type": "markdown",
      "metadata": {
        "id": "n6Fce1Mmn0T0"
      },
      "source": [
        "## <div style=\"direction:rtl;text-align:right;font-family:B Lotus, B Nazanin, Tahoma\">لود مجموعه داده (dataset)</div>"
      ]
    },
    {
      "cell_type": "code",
      "execution_count": null,
      "metadata": {
        "id": "75933Yn4n0T2"
      },
      "outputs": [],
      "source": [
        "x_train_original, y_train_original, x_test_original, y_test_original = load_hoda()"
      ]
    },
    {
      "cell_type": "code",
      "execution_count": null,
      "metadata": {
        "id": "Ea33wtOhojtO",
        "colab": {
          "base_uri": "https://localhost:8080/"
        },
        "outputId": "4f89cbaa-6d18-4f31-ad9e-25c7d8ca8cdb"
      },
      "outputs": [
        {
          "output_type": "execute_result",
          "data": {
            "text/plain": [
              "array([6, 5, 0], dtype=uint8)"
            ]
          },
          "metadata": {},
          "execution_count": 5
        }
      ],
      "source": [
        "y_train_original[:3]"
      ]
    },
    {
      "cell_type": "code",
      "execution_count": null,
      "metadata": {
        "id": "TNqdNuDmn0T4"
      },
      "outputs": [],
      "source": [
        "# Preprocess input data for Keras.\n",
        "y_train = keras.utils.to_categorical(y_train_original, num_classes=10)\n",
        "y_test = keras.utils.to_categorical(y_test_original, num_classes=10)"
      ]
    },
    {
      "cell_type": "code",
      "execution_count": null,
      "metadata": {
        "id": "uoO2KjILomRf",
        "colab": {
          "base_uri": "https://localhost:8080/"
        },
        "outputId": "1fea30e7-4702-4da7-9df9-bc3c965d9168"
      },
      "outputs": [
        {
          "output_type": "execute_result",
          "data": {
            "text/plain": [
              "array([[0., 0., 0., 0., 0., 0., 1., 0., 0., 0.],\n",
              "       [0., 0., 0., 0., 0., 1., 0., 0., 0., 0.],\n",
              "       [1., 0., 0., 0., 0., 0., 0., 0., 0., 0.]], dtype=float32)"
            ]
          },
          "metadata": {},
          "execution_count": 8
        }
      ],
      "source": [
        "y_train[:3]"
      ]
    },
    {
      "cell_type": "markdown",
      "metadata": {
        "id": "HTMmpwKvn0T6"
      },
      "source": [
        "<div style=\"direction:rtl;text-align:right;font-family:Tahoma\">\n",
        "نرمال سازی مقادیر به مقدار بین 0 و 1\n",
        "</div>"
      ]
    },
    {
      "cell_type": "code",
      "execution_count": null,
      "metadata": {
        "id": "Qq6rwPV3n0T7"
      },
      "outputs": [],
      "source": [
        "x_train = x_train_original.astype('float32')\n",
        "x_test = x_test_original.astype('float32')\n",
        "x_train /= 255\n",
        "x_test /= 255"
      ]
    },
    {
      "cell_type": "markdown",
      "metadata": {
        "id": "jnNoMbA4n0UA"
      },
      "source": [
        "## <div style=\"direction:rtl;text-align:right;font-family:B Lotus, B Nazanin, Tahoma\">تعریف معماری مدل (model architecture)</div>"
      ]
    },
    {
      "cell_type": "code",
      "execution_count": null,
      "metadata": {
        "id": "yXI8Qt9ln0UD"
      },
      "outputs": [],
      "source": [
        "model = Sequential()\n",
        "model.add(Dense(100, activation='relu', input_dim=25))\n",
        "model.add(Dense(200, activation='relu'))\n",
        "model.add(Dense(10, activation='softmax'))"
      ]
    },
    {
      "cell_type": "code",
      "execution_count": null,
      "metadata": {
        "id": "PjjzCgUon0UE",
        "colab": {
          "base_uri": "https://localhost:8080/"
        },
        "outputId": "ab6bfbe3-4b86-4133-bbe1-ef7d18bdcd09"
      },
      "outputs": [
        {
          "output_type": "stream",
          "name": "stdout",
          "text": [
            "Model: \"sequential_1\"\n",
            "_________________________________________________________________\n",
            " Layer (type)                Output Shape              Param #   \n",
            "=================================================================\n",
            " dense_2 (Dense)             (None, 100)               2600      \n",
            "                                                                 \n",
            " dense_3 (Dense)             (None, 200)               20200     \n",
            "                                                                 \n",
            " dense_4 (Dense)             (None, 10)                2010      \n",
            "                                                                 \n",
            "=================================================================\n",
            "Total params: 24810 (96.91 KB)\n",
            "Trainable params: 24810 (96.91 KB)\n",
            "Non-trainable params: 0 (0.00 Byte)\n",
            "_________________________________________________________________\n"
          ]
        }
      ],
      "source": [
        "model.summary()"
      ]
    },
    {
      "cell_type": "code",
      "source": [
        "keras.utils.plot_model(model, show_shapes=True)"
      ],
      "metadata": {
        "colab": {
          "base_uri": "https://localhost:8080/",
          "height": 422
        },
        "id": "4ykhBxCDDzuq",
        "outputId": "0294e044-0d5b-4460-c1c8-bb4d91308103"
      },
      "execution_count": null,
      "outputs": [
        {
          "output_type": "execute_result",
          "data": {
            "image/png": "[encoded data removed]",
            "text/plain": [
              "<IPython.core.display.Image object>"
            ]
          },
          "metadata": {},
          "execution_count": 45
        }
      ]
    },
    {
      "cell_type": "markdown",
      "metadata": {
        "id": "eiBtCFgsn0UG"
      },
      "source": [
        "## <div style=\"direction:rtl;text-align:right;font-family:B Lotus, B Nazanin, Tahoma\">Compile model</div>\n"
      ]
    },
    {
      "cell_type": "code",
      "execution_count": null,
      "metadata": {
        "id": "LgsEJt-on0UH"
      },
      "outputs": [],
      "source": [
        "model.compile(loss='categorical_crossentropy',\n",
        "              optimizer='rmsprop',\n",
        "              metrics=['accuracy'])"
      ]
    },
    {
      "cell_type": "markdown",
      "metadata": {
        "id": "K90TipVyn0UI"
      },
      "source": [
        "## <div style=\"direction:rtl;text-align:right;font-family:B Lotus, B Nazanin, Tahoma\">آموش مدل با داده‌های آموزشی</div>\n"
      ]
    },
    {
      "cell_type": "code",
      "execution_count": null,
      "metadata": {
        "colab": {
          "base_uri": "https://localhost:8080/"
        },
        "id": "fII6tnXYp9B4",
        "outputId": "a7cb93de-14bc-4f46-b375-126495dc9228"
      },
      "outputs": [
        {
          "output_type": "execute_result",
          "data": {
            "text/plain": [
              "800.0"
            ]
          },
          "metadata": {},
          "execution_count": 47
        }
      ],
      "source": [
        "1000*0.8"
      ]
    },
    {
      "cell_type": "code",
      "execution_count": null,
      "metadata": {
        "colab": {
          "base_uri": "https://localhost:8080/"
        },
        "id": "j_5xOZUSqES1",
        "outputId": "f36c5280-df68-49c0-f32b-6fbbb6b6b0b9"
      },
      "outputs": [
        {
          "output_type": "execute_result",
          "data": {
            "text/plain": [
              "13"
            ]
          },
          "metadata": {},
          "execution_count": 48
        }
      ],
      "source": [
        "import math\n",
        "math.ceil((800/64))"
      ]
    },
    {
      "cell_type": "code",
      "execution_count": null,
      "metadata": {
        "colab": {
          "base_uri": "https://localhost:8080/"
        },
        "id": "pLBWKD3_n0UK",
        "outputId": "aa922622-b800-4247-c8a0-13b33d8c9801"
      },
      "outputs": [
        {
          "output_type": "stream",
          "name": "stdout",
          "text": [
            "Epoch 1/100\n",
            "13/13 [==============================] - 2s 32ms/step - loss: 2.0022 - accuracy: 0.4425 - val_loss: 1.7032 - val_accuracy: 0.6250\n",
            "Epoch 2/100\n",
            "13/13 [==============================] - 0s 10ms/step - loss: 1.4379 - accuracy: 0.7337 - val_loss: 1.1726 - val_accuracy: 0.7950\n",
            "Epoch 3/100\n",
            "13/13 [==============================] - 0s 8ms/step - loss: 0.9834 - accuracy: 0.8138 - val_loss: 0.8339 - val_accuracy: 0.8050\n",
            "Epoch 4/100\n",
            "13/13 [==============================] - 0s 10ms/step - loss: 0.7133 - accuracy: 0.8363 - val_loss: 0.6398 - val_accuracy: 0.8150\n",
            "Epoch 5/100\n",
            "13/13 [==============================] - 0s 9ms/step - loss: 0.5550 - accuracy: 0.8625 - val_loss: 0.5401 - val_accuracy: 0.8550\n",
            "Epoch 6/100\n",
            "13/13 [==============================] - 0s 9ms/step - loss: 0.4716 - accuracy: 0.8675 - val_loss: 0.4911 - val_accuracy: 0.8650\n",
            "Epoch 7/100\n",
            "13/13 [==============================] - 0s 7ms/step - loss: 0.4162 - accuracy: 0.8875 - val_loss: 0.4724 - val_accuracy: 0.8600\n",
            "Epoch 8/100\n",
            "13/13 [==============================] - 0s 5ms/step - loss: 0.3711 - accuracy: 0.8975 - val_loss: 0.4398 - val_accuracy: 0.8650\n",
            "Epoch 9/100\n",
            "13/13 [==============================] - 0s 7ms/step - loss: 0.3423 - accuracy: 0.8988 - val_loss: 0.4031 - val_accuracy: 0.8650\n",
            "Epoch 10/100\n",
            "13/13 [==============================] - 0s 7ms/step - loss: 0.3138 - accuracy: 0.8950 - val_loss: 0.3837 - val_accuracy: 0.8850\n",
            "Epoch 11/100\n",
            "13/13 [==============================] - 0s 6ms/step - loss: 0.2879 - accuracy: 0.9112 - val_loss: 0.3898 - val_accuracy: 0.8900\n",
            "Epoch 12/100\n",
            "13/13 [==============================] - 0s 7ms/step - loss: 0.2783 - accuracy: 0.9137 - val_loss: 0.3558 - val_accuracy: 0.8850\n",
            "Epoch 13/100\n",
            "13/13 [==============================] - 0s 5ms/step - loss: 0.2639 - accuracy: 0.9150 - val_loss: 0.3849 - val_accuracy: 0.8750\n",
            "Epoch 14/100\n",
            "13/13 [==============================] - 0s 6ms/step - loss: 0.2458 - accuracy: 0.9225 - val_loss: 0.3761 - val_accuracy: 0.8700\n",
            "Epoch 15/100\n",
            "13/13 [==============================] - 0s 8ms/step - loss: 0.2352 - accuracy: 0.9187 - val_loss: 0.3851 - val_accuracy: 0.8800\n",
            "Epoch 16/100\n",
            "13/13 [==============================] - 0s 5ms/step - loss: 0.2210 - accuracy: 0.9287 - val_loss: 0.3655 - val_accuracy: 0.8900\n",
            "Epoch 17/100\n",
            "13/13 [==============================] - 0s 5ms/step - loss: 0.2193 - accuracy: 0.9325 - val_loss: 0.3884 - val_accuracy: 0.8600\n",
            "Epoch 18/100\n",
            "13/13 [==============================] - 0s 5ms/step - loss: 0.2100 - accuracy: 0.9325 - val_loss: 0.3200 - val_accuracy: 0.8850\n",
            "Epoch 19/100\n",
            "13/13 [==============================] - 0s 5ms/step - loss: 0.1943 - accuracy: 0.9400 - val_loss: 0.3315 - val_accuracy: 0.8800\n",
            "Epoch 20/100\n",
            "13/13 [==============================] - 0s 7ms/step - loss: 0.1937 - accuracy: 0.9325 - val_loss: 0.3183 - val_accuracy: 0.8900\n",
            "Epoch 21/100\n",
            "13/13 [==============================] - 0s 6ms/step - loss: 0.1819 - accuracy: 0.9425 - val_loss: 0.3395 - val_accuracy: 0.9000\n",
            "Epoch 22/100\n",
            "13/13 [==============================] - 0s 5ms/step - loss: 0.1791 - accuracy: 0.9388 - val_loss: 0.3120 - val_accuracy: 0.8950\n",
            "Epoch 23/100\n",
            "13/13 [==============================] - 0s 6ms/step - loss: 0.1694 - accuracy: 0.9475 - val_loss: 0.3319 - val_accuracy: 0.8850\n",
            "Epoch 24/100\n",
            "13/13 [==============================] - 0s 6ms/step - loss: 0.1621 - accuracy: 0.9513 - val_loss: 0.3429 - val_accuracy: 0.8950\n",
            "Epoch 25/100\n",
            "13/13 [==============================] - 0s 6ms/step - loss: 0.1552 - accuracy: 0.9600 - val_loss: 0.3154 - val_accuracy: 0.9000\n",
            "Epoch 26/100\n",
            "13/13 [==============================] - 0s 5ms/step - loss: 0.1518 - accuracy: 0.9525 - val_loss: 0.3195 - val_accuracy: 0.8850\n",
            "Epoch 27/100\n",
            "13/13 [==============================] - 0s 6ms/step - loss: 0.1434 - accuracy: 0.9613 - val_loss: 0.3600 - val_accuracy: 0.8950\n",
            "Epoch 28/100\n",
            "13/13 [==============================] - 0s 7ms/step - loss: 0.1456 - accuracy: 0.9575 - val_loss: 0.3216 - val_accuracy: 0.8950\n",
            "Epoch 29/100\n",
            "13/13 [==============================] - 0s 5ms/step - loss: 0.1326 - accuracy: 0.9550 - val_loss: 0.3264 - val_accuracy: 0.8850\n",
            "Epoch 30/100\n",
            "13/13 [==============================] - 0s 6ms/step - loss: 0.1267 - accuracy: 0.9613 - val_loss: 0.3358 - val_accuracy: 0.9300\n",
            "Epoch 31/100\n",
            "13/13 [==============================] - 0s 5ms/step - loss: 0.1266 - accuracy: 0.9613 - val_loss: 0.3222 - val_accuracy: 0.9000\n",
            "Epoch 32/100\n",
            "13/13 [==============================] - 0s 7ms/step - loss: 0.1226 - accuracy: 0.9625 - val_loss: 0.3161 - val_accuracy: 0.9000\n",
            "Epoch 33/100\n",
            "13/13 [==============================] - 0s 6ms/step - loss: 0.1225 - accuracy: 0.9625 - val_loss: 0.3343 - val_accuracy: 0.8750\n",
            "Epoch 34/100\n",
            "13/13 [==============================] - 0s 6ms/step - loss: 0.1084 - accuracy: 0.9737 - val_loss: 0.3249 - val_accuracy: 0.8800\n",
            "Epoch 35/100\n",
            "13/13 [==============================] - 0s 8ms/step - loss: 0.1077 - accuracy: 0.9675 - val_loss: 0.3196 - val_accuracy: 0.8950\n",
            "Epoch 36/100\n",
            "13/13 [==============================] - 0s 6ms/step - loss: 0.1048 - accuracy: 0.9750 - val_loss: 0.3252 - val_accuracy: 0.9050\n",
            "Epoch 37/100\n",
            "13/13 [==============================] - 0s 6ms/step - loss: 0.1024 - accuracy: 0.9762 - val_loss: 0.3355 - val_accuracy: 0.8950\n",
            "Epoch 38/100\n",
            "13/13 [==============================] - 0s 6ms/step - loss: 0.0973 - accuracy: 0.9787 - val_loss: 0.3753 - val_accuracy: 0.9000\n",
            "Epoch 39/100\n",
            "13/13 [==============================] - 0s 6ms/step - loss: 0.0961 - accuracy: 0.9787 - val_loss: 0.3698 - val_accuracy: 0.8950\n",
            "Epoch 40/100\n",
            "13/13 [==============================] - 0s 8ms/step - loss: 0.0933 - accuracy: 0.9787 - val_loss: 0.3508 - val_accuracy: 0.8900\n",
            "Epoch 41/100\n",
            "13/13 [==============================] - 0s 6ms/step - loss: 0.0861 - accuracy: 0.9800 - val_loss: 0.3543 - val_accuracy: 0.8700\n",
            "Epoch 42/100\n",
            "13/13 [==============================] - 0s 7ms/step - loss: 0.0843 - accuracy: 0.9787 - val_loss: 0.3315 - val_accuracy: 0.8750\n",
            "Epoch 43/100\n",
            "13/13 [==============================] - 0s 7ms/step - loss: 0.0858 - accuracy: 0.9762 - val_loss: 0.3360 - val_accuracy: 0.8900\n",
            "Epoch 44/100\n",
            "13/13 [==============================] - 0s 6ms/step - loss: 0.0767 - accuracy: 0.9850 - val_loss: 0.3537 - val_accuracy: 0.9100\n",
            "Epoch 45/100\n",
            "13/13 [==============================] - 0s 7ms/step - loss: 0.0731 - accuracy: 0.9850 - val_loss: 0.3847 - val_accuracy: 0.8900\n",
            "Epoch 46/100\n",
            "13/13 [==============================] - 0s 6ms/step - loss: 0.0770 - accuracy: 0.9825 - val_loss: 0.3359 - val_accuracy: 0.8950\n",
            "Epoch 47/100\n",
            "13/13 [==============================] - 0s 6ms/step - loss: 0.0715 - accuracy: 0.9812 - val_loss: 0.3545 - val_accuracy: 0.8950\n",
            "Epoch 48/100\n",
            "13/13 [==============================] - 0s 7ms/step - loss: 0.0670 - accuracy: 0.9862 - val_loss: 0.3526 - val_accuracy: 0.8900\n",
            "Epoch 49/100\n",
            "13/13 [==============================] - 0s 5ms/step - loss: 0.0662 - accuracy: 0.9875 - val_loss: 0.3476 - val_accuracy: 0.9000\n",
            "Epoch 50/100\n",
            "13/13 [==============================] - 0s 7ms/step - loss: 0.0639 - accuracy: 0.9825 - val_loss: 0.3784 - val_accuracy: 0.9100\n",
            "Epoch 51/100\n",
            "13/13 [==============================] - 0s 6ms/step - loss: 0.0615 - accuracy: 0.9900 - val_loss: 0.3606 - val_accuracy: 0.8950\n",
            "Epoch 52/100\n",
            "13/13 [==============================] - 0s 8ms/step - loss: 0.0607 - accuracy: 0.9837 - val_loss: 0.3875 - val_accuracy: 0.8900\n",
            "Epoch 53/100\n",
            "13/13 [==============================] - 0s 5ms/step - loss: 0.0575 - accuracy: 0.9862 - val_loss: 0.3918 - val_accuracy: 0.9000\n",
            "Epoch 54/100\n",
            "13/13 [==============================] - 0s 6ms/step - loss: 0.0516 - accuracy: 0.9912 - val_loss: 0.3896 - val_accuracy: 0.8900\n",
            "Epoch 55/100\n",
            "13/13 [==============================] - 0s 7ms/step - loss: 0.0558 - accuracy: 0.9875 - val_loss: 0.4159 - val_accuracy: 0.9000\n",
            "Epoch 56/100\n",
            "13/13 [==============================] - 0s 6ms/step - loss: 0.0548 - accuracy: 0.9862 - val_loss: 0.3837 - val_accuracy: 0.8900\n",
            "Epoch 57/100\n",
            "13/13 [==============================] - 0s 6ms/step - loss: 0.0475 - accuracy: 0.9887 - val_loss: 0.3881 - val_accuracy: 0.8900\n",
            "Epoch 58/100\n",
            "13/13 [==============================] - 0s 5ms/step - loss: 0.0523 - accuracy: 0.9887 - val_loss: 0.3778 - val_accuracy: 0.8950\n",
            "Epoch 59/100\n",
            "13/13 [==============================] - 0s 7ms/step - loss: 0.0433 - accuracy: 0.9912 - val_loss: 0.3858 - val_accuracy: 0.8950\n",
            "Epoch 60/100\n",
            "13/13 [==============================] - 0s 5ms/step - loss: 0.0435 - accuracy: 0.9937 - val_loss: 0.4268 - val_accuracy: 0.8850\n",
            "Epoch 61/100\n",
            "13/13 [==============================] - 0s 7ms/step - loss: 0.0418 - accuracy: 0.9912 - val_loss: 0.3936 - val_accuracy: 0.9000\n",
            "Epoch 62/100\n",
            "13/13 [==============================] - 0s 6ms/step - loss: 0.0412 - accuracy: 0.9900 - val_loss: 0.4016 - val_accuracy: 0.8900\n",
            "Epoch 63/100\n",
            "13/13 [==============================] - 0s 7ms/step - loss: 0.0384 - accuracy: 0.9900 - val_loss: 0.3984 - val_accuracy: 0.8900\n",
            "Epoch 64/100\n",
            "13/13 [==============================] - 0s 6ms/step - loss: 0.0369 - accuracy: 0.9912 - val_loss: 0.4170 - val_accuracy: 0.8850\n",
            "Epoch 65/100\n",
            "13/13 [==============================] - 0s 7ms/step - loss: 0.0386 - accuracy: 0.9912 - val_loss: 0.3989 - val_accuracy: 0.8950\n",
            "Epoch 66/100\n",
            "13/13 [==============================] - 0s 6ms/step - loss: 0.0360 - accuracy: 0.9925 - val_loss: 0.4386 - val_accuracy: 0.8950\n",
            "Epoch 67/100\n",
            "13/13 [==============================] - 0s 5ms/step - loss: 0.0331 - accuracy: 0.9937 - val_loss: 0.4122 - val_accuracy: 0.8950\n",
            "Epoch 68/100\n",
            "13/13 [==============================] - 0s 6ms/step - loss: 0.0314 - accuracy: 0.9937 - val_loss: 0.4993 - val_accuracy: 0.8850\n",
            "Epoch 69/100\n",
            "13/13 [==============================] - 0s 7ms/step - loss: 0.0324 - accuracy: 0.9912 - val_loss: 0.4251 - val_accuracy: 0.9000\n",
            "Epoch 70/100\n",
            "13/13 [==============================] - 0s 7ms/step - loss: 0.0276 - accuracy: 0.9962 - val_loss: 0.4329 - val_accuracy: 0.8950\n",
            "Epoch 71/100\n",
            "13/13 [==============================] - 0s 5ms/step - loss: 0.0308 - accuracy: 0.9925 - val_loss: 0.4636 - val_accuracy: 0.8900\n",
            "Epoch 72/100\n",
            "13/13 [==============================] - 0s 6ms/step - loss: 0.0265 - accuracy: 0.9950 - val_loss: 0.4576 - val_accuracy: 0.8750\n",
            "Epoch 73/100\n",
            "13/13 [==============================] - 0s 5ms/step - loss: 0.0278 - accuracy: 0.9925 - val_loss: 0.4145 - val_accuracy: 0.8850\n",
            "Epoch 74/100\n",
            "13/13 [==============================] - 0s 7ms/step - loss: 0.0237 - accuracy: 0.9962 - val_loss: 0.4293 - val_accuracy: 0.9000\n",
            "Epoch 75/100\n",
            "13/13 [==============================] - 0s 6ms/step - loss: 0.0240 - accuracy: 0.9962 - val_loss: 0.4325 - val_accuracy: 0.8800\n",
            "Epoch 76/100\n",
            "13/13 [==============================] - 0s 7ms/step - loss: 0.0247 - accuracy: 0.9962 - val_loss: 0.4563 - val_accuracy: 0.9050\n",
            "Epoch 77/100\n",
            "13/13 [==============================] - 0s 5ms/step - loss: 0.0219 - accuracy: 0.9962 - val_loss: 0.4903 - val_accuracy: 0.8900\n",
            "Epoch 78/100\n",
            "13/13 [==============================] - 0s 6ms/step - loss: 0.0191 - accuracy: 0.9962 - val_loss: 0.4370 - val_accuracy: 0.8850\n",
            "Epoch 79/100\n",
            "13/13 [==============================] - 0s 6ms/step - loss: 0.0200 - accuracy: 0.9975 - val_loss: 0.4716 - val_accuracy: 0.8950\n",
            "Epoch 80/100\n",
            "13/13 [==============================] - 0s 5ms/step - loss: 0.0193 - accuracy: 0.9962 - val_loss: 0.4970 - val_accuracy: 0.9000\n",
            "Epoch 81/100\n",
            "13/13 [==============================] - 0s 5ms/step - loss: 0.0184 - accuracy: 0.9987 - val_loss: 0.4836 - val_accuracy: 0.9000\n",
            "Epoch 82/100\n",
            "13/13 [==============================] - 0s 5ms/step - loss: 0.0179 - accuracy: 0.9975 - val_loss: 0.4668 - val_accuracy: 0.9000\n",
            "Epoch 83/100\n",
            "13/13 [==============================] - 0s 6ms/step - loss: 0.0168 - accuracy: 0.9975 - val_loss: 0.5088 - val_accuracy: 0.8950\n",
            "Epoch 84/100\n",
            "13/13 [==============================] - 0s 7ms/step - loss: 0.0164 - accuracy: 0.9962 - val_loss: 0.4591 - val_accuracy: 0.8900\n",
            "Epoch 85/100\n",
            "13/13 [==============================] - 0s 5ms/step - loss: 0.0141 - accuracy: 0.9975 - val_loss: 0.4923 - val_accuracy: 0.8950\n",
            "Epoch 86/100\n",
            "13/13 [==============================] - 0s 5ms/step - loss: 0.0158 - accuracy: 0.9987 - val_loss: 0.4750 - val_accuracy: 0.8950\n",
            "Epoch 87/100\n",
            "13/13 [==============================] - 0s 6ms/step - loss: 0.0136 - accuracy: 0.9975 - val_loss: 0.4907 - val_accuracy: 0.9000\n",
            "Epoch 88/100\n",
            "13/13 [==============================] - 0s 6ms/step - loss: 0.0128 - accuracy: 0.9975 - val_loss: 0.5079 - val_accuracy: 0.9000\n",
            "Epoch 89/100\n",
            "13/13 [==============================] - 0s 7ms/step - loss: 0.0156 - accuracy: 0.9962 - val_loss: 0.4884 - val_accuracy: 0.9050\n",
            "Epoch 90/100\n",
            "13/13 [==============================] - 0s 5ms/step - loss: 0.0114 - accuracy: 0.9987 - val_loss: 0.5172 - val_accuracy: 0.8850\n",
            "Epoch 91/100\n",
            "13/13 [==============================] - 0s 6ms/step - loss: 0.0108 - accuracy: 0.9987 - val_loss: 0.5291 - val_accuracy: 0.8950\n",
            "Epoch 92/100\n",
            "13/13 [==============================] - 0s 7ms/step - loss: 0.0110 - accuracy: 1.0000 - val_loss: 0.4988 - val_accuracy: 0.9000\n",
            "Epoch 93/100\n",
            "13/13 [==============================] - 0s 6ms/step - loss: 0.0131 - accuracy: 0.9962 - val_loss: 0.5277 - val_accuracy: 0.8950\n",
            "Epoch 94/100\n",
            "13/13 [==============================] - 0s 6ms/step - loss: 0.0081 - accuracy: 1.0000 - val_loss: 0.5657 - val_accuracy: 0.8900\n",
            "Epoch 95/100\n",
            "13/13 [==============================] - 0s 7ms/step - loss: 0.0142 - accuracy: 0.9937 - val_loss: 0.4917 - val_accuracy: 0.8950\n",
            "Epoch 96/100\n",
            "13/13 [==============================] - 0s 7ms/step - loss: 0.0077 - accuracy: 1.0000 - val_loss: 0.5039 - val_accuracy: 0.8950\n",
            "Epoch 97/100\n",
            "13/13 [==============================] - 0s 5ms/step - loss: 0.0087 - accuracy: 0.9987 - val_loss: 0.5251 - val_accuracy: 0.8950\n",
            "Epoch 98/100\n",
            "13/13 [==============================] - 0s 6ms/step - loss: 0.0108 - accuracy: 0.9975 - val_loss: 0.5213 - val_accuracy: 0.9000\n",
            "Epoch 99/100\n",
            "13/13 [==============================] - 0s 5ms/step - loss: 0.0068 - accuracy: 1.0000 - val_loss: 0.5429 - val_accuracy: 0.8900\n",
            "Epoch 100/100\n",
            "13/13 [==============================] - 0s 6ms/step - loss: 0.0074 - accuracy: 1.0000 - val_loss: 0.5598 - val_accuracy: 0.8900\n"
          ]
        }
      ],
      "source": [
        "history = model.fit(x_train, y_train,\n",
        "          epochs=100,\n",
        "          batch_size=64, validation_split=0.2)"
      ]
    },
    {
      "cell_type": "code",
      "execution_count": null,
      "metadata": {
        "colab": {
          "base_uri": "https://localhost:8080/"
        },
        "id": "PaLmJPBVqcnK",
        "outputId": "06baaf18-9f15-41bd-d470-20677a4e09ba"
      },
      "outputs": [
        {
          "output_type": "execute_result",
          "data": {
            "text/plain": [
              "dict_keys(['loss', 'accuracy', 'val_loss', 'val_accuracy'])"
            ]
          },
          "metadata": {},
          "execution_count": 50
        }
      ],
      "source": [
        "history.history.keys()"
      ]
    },
    {
      "cell_type": "code",
      "execution_count": null,
      "metadata": {
        "id": "pSpOuK7Kn0UK"
      },
      "outputs": [],
      "source": [
        "import matplotlib.pyplot as plt\n",
        "%matplotlib inline"
      ]
    },
    {
      "cell_type": "code",
      "execution_count": null,
      "metadata": {
        "colab": {
          "base_uri": "https://localhost:8080/",
          "height": 447
        },
        "id": "S-aXXd_xq_tT",
        "outputId": "2eb94aa9-c28f-419a-8010-1a43dbbd8f30"
      },
      "outputs": [
        {
          "output_type": "execute_result",
          "data": {
            "text/plain": [
              "<matplotlib.legend.Legend at 0x79ec50e40c10>"
            ]
          },
          "metadata": {},
          "execution_count": 52
        },
        {
          "output_type": "display_data",
          "data": {
            "text/plain": [
              "<Figure size 640x480 with 1 Axes>"
            ],
            "image/png": "[encoded data removed]"
          },
          "metadata": {}
        }
      ],
      "source": [
        "plt.plot(history.history['val_loss'])\n",
        "plt.plot(history.history['loss'])\n",
        "plt.legend(['val', 'train'])"
      ]
    },
    {
      "cell_type": "code",
      "execution_count": null,
      "metadata": {
        "colab": {
          "base_uri": "https://localhost:8080/",
          "height": 447
        },
        "id": "t3QELHvWn0UL",
        "outputId": "974b57b8-955e-4326-adb0-7992d8a8a1ad"
      },
      "outputs": [
        {
          "output_type": "execute_result",
          "data": {
            "text/plain": [
              "<matplotlib.legend.Legend at 0x79ec4cc2aef0>"
            ]
          },
          "metadata": {},
          "execution_count": 53
        },
        {
          "output_type": "display_data",
          "data": {
            "text/plain": [
              "<Figure size 640x480 with 1 Axes>"
            ],
            "image/png": "[encoded data removed]"
          },
          "metadata": {}
        }
      ],
      "source": [
        "plt.plot(history.history['val_accuracy'])\n",
        "plt.plot(history.history['accuracy'])\n",
        "plt.legend(['val', 'train'])"
      ]
    },
    {
      "cell_type": "markdown",
      "metadata": {
        "id": "-b_6qvBFn0UL"
      },
      "source": [
        "## <div style=\"direction:rtl;text-align:right;font-family:B Lotus, B Nazanin, Tahoma\">ارزیابی مدل روی داده های آزمون</div>"
      ]
    },
    {
      "cell_type": "code",
      "execution_count": null,
      "metadata": {
        "colab": {
          "base_uri": "https://localhost:8080/"
        },
        "id": "zNl9cUA2n0UL",
        "outputId": "986c7efa-3743-44de-f113-9df50cab0b02"
      },
      "outputs": [
        {
          "output_type": "stream",
          "name": "stdout",
          "text": [
            "7/7 [==============================] - 0s 4ms/step - loss: 0.3831 - accuracy: 0.9100\n",
            "\n",
            "Testing loss: 0.38, acc: 0.91%\n"
          ]
        }
      ],
      "source": [
        "loss, acc = model.evaluate(x_test, y_test)\n",
        "print('\\nTesting loss: %.2f, acc: %.2f%%'%(loss, acc))"
      ]
    },
    {
      "cell_type": "markdown",
      "metadata": {
        "id": "ruUxAbvWn0UM"
      },
      "source": [
        "## <div style=\"direction:rtl;text-align:right;font-family:B Lotus, B Nazanin, Tahoma\">پیش‌بینی داده‌های آموزشی</div>\n"
      ]
    },
    {
      "cell_type": "code",
      "source": [
        "x_test.shape"
      ],
      "metadata": {
        "colab": {
          "base_uri": "https://localhost:8080/"
        },
        "id": "_cDcQTaGPCpQ",
        "outputId": "ec0f34d2-0c5c-4672-b95f-3beebbf12f87"
      },
      "execution_count": null,
      "outputs": [
        {
          "output_type": "execute_result",
          "data": {
            "text/plain": [
              "(200, 25)"
            ]
          },
          "metadata": {},
          "execution_count": 55
        }
      ]
    },
    {
      "cell_type": "code",
      "execution_count": null,
      "metadata": {
        "colab": {
          "base_uri": "https://localhost:8080/"
        },
        "id": "JVzqr5A-rNYp",
        "outputId": "01d329bf-7d4e-4d12-9143-b02ae01a9147"
      },
      "outputs": [
        {
          "output_type": "stream",
          "name": "stdout",
          "text": [
            "7/7 [==============================] - 0s 2ms/step\n"
          ]
        }
      ],
      "source": [
        "# The predict_classes function outputs the highest probability class\n",
        "# according to the trained classifier for each input example.\n",
        "predicted = model.predict(x_test)"
      ]
    },
    {
      "cell_type": "code",
      "execution_count": null,
      "metadata": {
        "id": "G2lTnueerrU0"
      },
      "outputs": [],
      "source": [
        "predicted_classes = np.argmax(predicted, axis=1)"
      ]
    },
    {
      "cell_type": "code",
      "execution_count": null,
      "metadata": {
        "colab": {
          "base_uri": "https://localhost:8080/"
        },
        "id": "ZlYHuZvkn0UO",
        "outputId": "7b367b35-a2fe-4cf8-f47c-8b7cc75ed3c5"
      },
      "outputs": [
        {
          "output_type": "stream",
          "name": "stdout",
          "text": [
            "predicted:\n",
            "[7 2 3 5 5 5 4 7 3 2 0 8 8 0 2 9 3 6 7 4 0 3 6 3 9 2 7 5 2 9 7 5 5 8 9 6 5\n",
            " 9 4 8 8 4 7 2 1 2 7 9 0 3 7 5 7 5 2 9 8 2 9 8 8 6 6 6 6 6 3 4 2 4 4 5 9 1\n",
            " 8 4 0 5 6 2 4 6 2 7 7 7 7 1 8 1 7 8 7 7 8 9 7 2 3 1 0 2 9 6 3 5 5 0 0 9 6\n",
            " 7 9 3 9 9 8 7 9 2 5 2 5 5 9 6 9 2 0 3 7 9 5 2 9 0 3 1 8 2 2 3 5 2 8 3 8 6\n",
            " 7 0 9 9 0 7 6 5 4 4 9 3 7 0 7 1 9 4 7 3 4 1 5 6 7 9 1 3 5 4 5 7 4 1 3 3 1\n",
            " 2 3 3 8 9 6 7 7 6 3 0 5 6 9 5]\n",
            "True Label:\n",
            "[7 2 3 1 5 5 4 7 3 2 0 8 8 0 2 9 3 6 7 4 0 3 6 3 9 2 7 5 2 9 7 5 5 8 9 6 5\n",
            " 1 4 8 8 4 7 7 1 2 7 9 0 3 7 4 7 5 2 9 8 2 9 8 8 6 6 6 6 6 2 4 3 4 4 5 9 1\n",
            " 8 2 0 5 6 2 4 3 2 7 7 7 7 1 8 1 7 8 7 7 8 9 3 2 3 1 0 2 9 6 3 5 5 0 0 3 6\n",
            " 7 9 3 9 9 8 7 9 2 5 2 5 5 9 6 9 2 0 3 7 6 5 2 9 0 4 1 8 2 2 3 0 2 9 3 8 6\n",
            " 7 0 9 9 0 7 6 5 4 7 9 3 7 0 7 1 9 4 7 3 4 1 5 6 7 9 1 3 5 4 5 7 4 1 3 3 1\n",
            " 2 3 3 8 9 6 7 7 2 3 0 1 4 9 5]\n"
          ]
        }
      ],
      "source": [
        "\n",
        "print(\"predicted:\")\n",
        "print(predicted_classes)\n",
        "print(\"True Label:\")\n",
        "print(y_test_original)"
      ]
    },
    {
      "cell_type": "code",
      "execution_count": null,
      "metadata": {
        "colab": {
          "base_uri": "https://localhost:8080/",
          "height": 457
        },
        "id": "8mieKbW2n0UP",
        "outputId": "bc98f931-49b5-4c5d-8b69-8c2430e50a80"
      },
      "outputs": [
        {
          "output_type": "display_data",
          "data": {
            "text/plain": [
              "<Figure size 480x480 with 1 Axes>"
            ],
            "image/png": "[encoded data removed]"
          },
          "metadata": {}
        }
      ],
      "source": [
        "from sklearn.metrics import confusion_matrix\n",
        "plt.matshow(confusion_matrix(y_test_original, predicted_classes), cmap=\"Greens\")\n",
        "plt.xticks(range(10))\n",
        "plt.yticks(range(10))\n",
        "plt.xlabel(\"Predicted label\")\n",
        "plt.ylabel(\"True label\");"
      ]
    },
    {
      "cell_type": "code",
      "source": [
        "#Secend way for prediction but It is simple\n",
        "p = model.predict(x_test)\n",
        "result = np.argmax(p, axis=-1)"
      ],
      "metadata": {
        "colab": {
          "base_uri": "https://localhost:8080/"
        },
        "id": "jrYEngHaP8ac",
        "outputId": "d25bbe1f-8bed-4040-be49-95f02c69d924"
      },
      "execution_count": null,
      "outputs": [
        {
          "output_type": "stream",
          "name": "stdout",
          "text": [
            "7/7 [==============================] - 0s 2ms/step\n"
          ]
        }
      ]
    },
    {
      "cell_type": "code",
      "source": [
        "y_test_original == result"
      ],
      "metadata": {
        "colab": {
          "base_uri": "https://localhost:8080/"
        },
        "id": "Ph8mFvVKRosA",
        "outputId": "ab1a54c4-6ccf-4ba6-e8ba-2a52c24b08b8"
      },
      "execution_count": null,
      "outputs": [
        {
          "output_type": "execute_result",
          "data": {
            "text/plain": [
              "array([ True,  True,  True, False,  True,  True,  True,  True,  True,\n",
              "        True,  True,  True,  True,  True,  True,  True,  True,  True,\n",
              "        True,  True,  True,  True,  True,  True,  True,  True,  True,\n",
              "        True,  True,  True,  True,  True,  True,  True,  True,  True,\n",
              "        True, False,  True,  True,  True,  True,  True, False,  True,\n",
              "        True,  True,  True,  True,  True,  True, False,  True,  True,\n",
              "        True,  True,  True,  True,  True,  True,  True,  True,  True,\n",
              "        True,  True,  True, False,  True, False,  True,  True,  True,\n",
              "        True,  True,  True, False,  True,  True,  True,  True,  True,\n",
              "       False,  True,  True,  True,  True,  True,  True,  True,  True,\n",
              "        True,  True,  True,  True,  True,  True, False,  True,  True,\n",
              "        True,  True,  True,  True,  True,  True,  True,  True,  True,\n",
              "        True, False,  True,  True,  True,  True,  True,  True,  True,\n",
              "        True,  True,  True,  True,  True,  True,  True,  True,  True,\n",
              "        True,  True,  True,  True,  True, False,  True,  True,  True,\n",
              "        True, False,  True,  True,  True,  True,  True, False,  True,\n",
              "       False,  True,  True,  True,  True,  True,  True,  True,  True,\n",
              "        True,  True,  True,  True, False,  True,  True,  True,  True,\n",
              "        True,  True,  True,  True,  True,  True,  True,  True,  True,\n",
              "        True,  True,  True,  True,  True,  True,  True,  True,  True,\n",
              "        True,  True,  True,  True,  True,  True,  True,  True,  True,\n",
              "        True,  True,  True,  True, False,  True,  True, False, False,\n",
              "        True,  True])"
            ]
          },
          "metadata": {},
          "execution_count": 61
        }
      ]
    },
    {
      "cell_type": "code",
      "source": [
        "np.sum(y_test_original == result)/200"
      ],
      "metadata": {
        "colab": {
          "base_uri": "https://localhost:8080/"
        },
        "id": "41zw6allQow0",
        "outputId": "7d4f310c-6fe5-477e-af06-e58727105bd2"
      },
      "execution_count": null,
      "outputs": [
        {
          "output_type": "execute_result",
          "data": {
            "text/plain": [
              "0.91"
            ]
          },
          "metadata": {},
          "execution_count": 62
        }
      ]
    },
    {
      "cell_type": "code",
      "source": [],
      "metadata": {
        "id": "O-u0fgOfRKpA"
      },
      "execution_count": null,
      "outputs": []
    }
  ],
  "metadata": {
    "accelerator": "GPU",
    "anaconda-cloud": {},
    "colab": {
      "gpuType": "T4",
      "provenance": [],
      "include_colab_link": true
    },
    "kernelspec": {
      "display_name": "Python 3",
      "name": "python3"
    },
    "language_info": {
      "codemirror_mode": {
        "name": "ipython",
        "version": 3
      },
      "file_extension": ".py",
      "mimetype": "text/x-python",
      "name": "python",
      "nbconvert_exporter": "python",
      "pygments_lexer": "ipython3",
      "version": "3.7.6"
    },
    "nbpresent": {
      "slides": {
        "300ee14f-a043-486e-b274-7ff253907cd7": {
          "id": "300ee14f-a043-486e-b274-7ff253907cd7",
          "prev": "cb74e0bc-4513-4d13-b7f1-14c3078a7927",
          "regions": {
            "26dc3f39-a230-447c-af4c-f5e5b2fb7835": {
              "attrs": {
                "height": 0.8,
                "width": 0.8,
                "x": 0.1,
                "y": 0.1
              },
              "content": {
                "cell": "c58440a5-3f8f-4f37-9c79-6bf766209406",
                "part": "whole"
              },
              "id": "26dc3f39-a230-447c-af4c-f5e5b2fb7835"
            }
          }
        },
        "878aa53a-1444-4100-8f50-7a408191c579": {
          "id": "878aa53a-1444-4100-8f50-7a408191c579",
          "prev": null,
          "regions": {
            "a6c6843a-5ea6-4fbc-b890-3b4b8ae475b3": {
              "attrs": {
                "height": 0.8,
                "width": 0.8,
                "x": 0.1,
                "y": 0.1
              },
              "content": {
                "cell": "588ee1fa-64b5-453b-ade7-8e6b2515821c",
                "part": "whole"
              },
              "id": "a6c6843a-5ea6-4fbc-b890-3b4b8ae475b3"
            }
          }
        },
        "96ffe88e-7b50-43de-afdd-942e564f4e3e": {
          "id": "96ffe88e-7b50-43de-afdd-942e564f4e3e",
          "prev": "878aa53a-1444-4100-8f50-7a408191c579",
          "regions": {
            "b7e52e12-489a-468d-b10c-af2024fd2856": {
              "attrs": {
                "height": 0.8,
                "width": 0.8,
                "x": 0.1,
                "y": 0.1
              },
              "content": {
                "cell": "de829a92-1fb6-44ad-a2c6-fc1001e1f6e1",
                "part": "whole"
              },
              "id": "b7e52e12-489a-468d-b10c-af2024fd2856"
            }
          }
        },
        "cb74e0bc-4513-4d13-b7f1-14c3078a7927": {
          "id": "cb74e0bc-4513-4d13-b7f1-14c3078a7927",
          "prev": "96ffe88e-7b50-43de-afdd-942e564f4e3e",
          "regions": {
            "444878ee-68f3-4abb-acff-a7079b21e86d": {
              "attrs": {
                "height": 0.8,
                "width": 0.8,
                "x": 0.1,
                "y": 0.1
              },
              "content": {
                "cell": "25f3f538-1ee8-4d98-a6bb-14cbeb7a702d",
                "part": "whole"
              },
              "id": "444878ee-68f3-4abb-acff-a7079b21e86d"
            }
          }
        }
      },
      "themes": {}
    }
  },
  "nbformat": 4,
  "nbformat_minor": 0
}